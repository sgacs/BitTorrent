{
 "cells": [
  {
   "cell_type": "code",
   "execution_count": null,
   "id": "d5cdabc6",
   "metadata": {
    "lines_to_next_cell": 0
   },
   "outputs": [],
   "source": []
  },
  {
   "cell_type": "code",
   "execution_count": null,
   "id": "2d6a3363",
   "metadata": {
    "lines_to_next_cell": 1
   },
   "outputs": [],
   "source": [
    "class Upload:\n",
    "    def __init__(self, from_id, to_id, up_bw):\n",
    "        self.from_id = from_id\n",
    "        self.to_id = to_id\n",
    "        self.bw = up_bw\n",
    "\n",
    "    def __repr__(self):\n",
    "        return \"Upload(from_id = %s, to_id=%s, bw=%d)\" % (\n",
    "            self.from_id, self.to_id, self.bw)"
   ]
  },
  {
   "cell_type": "code",
   "execution_count": null,
   "id": "264ea8d6",
   "metadata": {
    "lines_to_next_cell": 1
   },
   "outputs": [],
   "source": [
    "class Request:\n",
    "    def __init__(self, requester_id, peer_id, piece_id, start):\n",
    "        self.requester_id = requester_id\n",
    "        self.peer_id = peer_id   # peer data is requested from\n",
    "        self.piece_id = piece_id\n",
    "        self.start = start  # the block index\n",
    "\n",
    "    def __repr__(self):\n",
    "        return \"Request(requester_id=%s, peer_id=%s, piece_id=%d, start=%d)\" % (\n",
    "            self.requester_id, self.peer_id, self.piece_id, self.start)"
   ]
  },
  {
   "cell_type": "code",
   "execution_count": null,
   "id": "e7234943",
   "metadata": {},
   "outputs": [],
   "source": [
    "class Download:\n",
    "    \"\"\" Not actually a message--just used for accounting and history tracking of\n",
    "     what is actually downloaded.\n",
    "    \"\"\"\n",
    "    def __init__(self, from_id, to_id, piece, blocks):\n",
    "        self.from_id = from_id  # who did the agent download from?\n",
    "        self.to_id = to_id      # Who downloaded?\n",
    "        self.piece = piece      # Which piece?\n",
    "        self.blocks = blocks    # How much did the agent download?\n",
    "\n",
    "    def __repr__(self):\n",
    "        return \"Download(from_id=%s, to_id=%s, piece=%d, blocks=%d)\" % (\n",
    "            self.from_id, self.to_id, self.piece, self.blocks)"
   ]
  },
  {
   "cell_type": "code",
   "execution_count": null,
   "id": "530bb673",
   "metadata": {
    "lines_to_next_cell": 2
   },
   "outputs": [],
   "source": []
  },
  {
   "cell_type": "code",
   "execution_count": null,
   "id": "f724e081",
   "metadata": {
    "lines_to_next_cell": 2
   },
   "outputs": [],
   "source": [
    "class PeerInfo:\n",
    "    \"\"\"\n",
    "    Only passing peer ids and the pieces they have available to each agent.\n",
    "    This prevents them from accidentally messing up the state of other agents.\n",
    "    \"\"\"\n",
    "    def __init__(self, id, available):\n",
    "        self.id = id\n",
    "        self.available_pieces = available\n",
    "\n",
    "    def __repr__(self):\n",
    "        return \"PeerInfo(id=%s)\" % self.id"
   ]
  }
 ],
 "metadata": {
  "jupytext": {
   "cell_metadata_filter": "-all",
   "executable": "/usr/bin/python",
   "main_language": "python",
   "notebook_metadata_filter": "-all"
  }
 },
 "nbformat": 4,
 "nbformat_minor": 5
}
