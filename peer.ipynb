{
 "cells": [
  {
   "cell_type": "code",
   "execution_count": null,
   "id": "2f56ec40",
   "metadata": {
    "lines_to_next_cell": 0
   },
   "outputs": [],
   "source": []
  },
  {
   "cell_type": "code",
   "execution_count": null,
   "id": "1f9ea164",
   "metadata": {
    "lines_to_next_cell": 1
   },
   "outputs": [],
   "source": [
    "import random\n",
    "from messages import Upload, Request\n",
    "from util import even_split"
   ]
  },
  {
   "cell_type": "code",
   "execution_count": null,
   "id": "27f2238c",
   "metadata": {},
   "outputs": [],
   "source": [
    "class Peer:\n",
    "    def __init__(self, config, id, init_pieces, up_bandwidth):\n",
    "        self.conf = config\n",
    "        self.id = id\n",
    "        self.pieces = init_pieces[:]\n",
    "        # bandwidth measured in blocks-per-time-period\n",
    "        self.up_bw = up_bandwidth\n",
    "\n",
    "        # This is an upper bound on the number of requests to send to\n",
    "        # each peer -- they can't possibly handle more than this in one round\n",
    "        self.max_requests = self.conf.max_up_bw / self.conf.blocks_per_piece + 1\n",
    "        self.max_requests = min(self.max_requests, self.conf.num_pieces)\n",
    "\n",
    "        self.post_init()\n",
    "\n",
    "    def __repr__(self):\n",
    "        return \"%s(id=%s pieces=%s up_bw=%d)\" % (\n",
    "            self.__class__.__name__,\n",
    "            self.id, self.pieces, self.up_bw)\n",
    "\n",
    "    def update_pieces(self, new_pieces):\n",
    "        \"\"\"\n",
    "        Called by the sim when this peer gets new pieces.  Using a function\n",
    "        so it's easy to add any extra processing...\n",
    "        \"\"\"\n",
    "        self.pieces = new_pieces\n",
    "\n",
    "    def requests(self, peers, history):\n",
    "        return []\n",
    "\n",
    "    def uploads(self, requests, peers, history):\n",
    "        return []\n",
    "\n",
    "    def post_init(self):\n",
    "        # Here to be overridden by child classes\n",
    "        pass"
   ]
  }
 ],
 "metadata": {
  "jupytext": {
   "cell_metadata_filter": "-all",
   "executable": "/usr/bin/python",
   "main_language": "python",
   "notebook_metadata_filter": "-all"
  }
 },
 "nbformat": 4,
 "nbformat_minor": 5
}
