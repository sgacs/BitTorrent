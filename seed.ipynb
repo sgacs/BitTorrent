{
 "cells": [
  {
   "cell_type": "code",
   "execution_count": null,
   "id": "2a79da91",
   "metadata": {
    "lines_to_next_cell": 0
   },
   "outputs": [],
   "source": []
  },
  {
   "cell_type": "code",
   "execution_count": null,
   "id": "8189befa",
   "metadata": {
    "lines_to_next_cell": 1
   },
   "outputs": [],
   "source": [
    "import random\n",
    "from messages import Upload, Request\n",
    "from util import even_split\n",
    "from peer import Peer"
   ]
  },
  {
   "cell_type": "code",
   "execution_count": null,
   "id": "8d68af69",
   "metadata": {},
   "outputs": [],
   "source": [
    "class Seed(Peer):\n",
    "    def requests(self, peers, history):\n",
    "        # Seeds don't need anything.\n",
    "        return []\n",
    "\n",
    "    def uploads(self, requests, peers, history):\n",
    "        max_upload = 4  # max num of peers to upload to at a time\n",
    "        requester_ids = list(set([r.requester_id for r in requests]))\n",
    "\n",
    "        n = min(max_upload, len(requester_ids))\n",
    "        if n == 0:\n",
    "            return []\n",
    "        bws = even_split(self.up_bw, n)\n",
    "        uploads = [Upload(self.id, p_id, bw)\n",
    "                   for (p_id, bw) in zip(random.sample(requester_ids, n), bws)]\n",
    "        \n",
    "        return uploads"
   ]
  }
 ],
 "metadata": {
  "jupytext": {
   "cell_metadata_filter": "-all",
   "executable": "/usr/bin/python",
   "main_language": "python",
   "notebook_metadata_filter": "-all"
  }
 },
 "nbformat": 4,
 "nbformat_minor": 5
}
