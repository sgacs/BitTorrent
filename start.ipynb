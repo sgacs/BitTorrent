{
 "cells": [
  {
   "cell_type": "code",
   "execution_count": null,
   "id": "62bd02f1",
   "metadata": {
    "lines_to_next_cell": 0
   },
   "outputs": [],
   "source": []
  },
  {
   "cell_type": "code",
   "execution_count": null,
   "id": "6ae8f33b",
   "metadata": {
    "lines_to_next_cell": 1
   },
   "outputs": [],
   "source": [
    "import os\n",
    "import sys\n",
    "import shutil"
   ]
  },
  {
   "cell_type": "code",
   "execution_count": null,
   "id": "fd0f3a4c",
   "metadata": {},
   "outputs": [],
   "source": [
    "def main(args):\n",
    "    if len(args) != 2:\n",
    "        print(\"Usage: start.py TEAMNAME\")\n",
    "        sys.exit(1)\n",
    "\n",
    "    teamname = args[1].lower()\n",
    "\n",
    "    src = 'lessdummy.py'\n",
    "    files = ['std', 'tyrant', 'propshare', 'tourney']\n",
    "\n",
    "    \n",
    "    for f in files:\n",
    "        dst = \"%s%s.py\" % (teamname, f)\n",
    "        print(\"Copying %s to %s...\" % (src, dst))\n",
    "        shutil.copyfile(src, dst)\n",
    "\n",
    "    print(\"All done.  Code away!\")"
   ]
  },
  {
   "cell_type": "code",
   "execution_count": null,
   "id": "21a8e1d7",
   "metadata": {},
   "outputs": [],
   "source": [
    "if __name__ == \"__main__\":\n",
    "    main(sys.argv)"
   ]
  }
 ],
 "metadata": {
  "jupytext": {
   "cell_metadata_filter": "-all",
   "executable": "/usr/bin/python",
   "main_language": "python",
   "notebook_metadata_filter": "-all"
  }
 },
 "nbformat": 4,
 "nbformat_minor": 5
}
