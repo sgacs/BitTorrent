{
 "cells": [
  {
   "cell_type": "code",
   "execution_count": null,
   "id": "2dc46a23",
   "metadata": {
    "lines_to_next_cell": 0
   },
   "outputs": [],
   "source": []
  },
  {
   "cell_type": "markdown",
   "id": "e82c241d",
   "metadata": {},
   "source": [
    "Util functions ################"
   ]
  },
  {
   "cell_type": "markdown",
   "id": "a206d1ac",
   "metadata": {},
   "source": [
    "http://stackoverflow.com/questions/5098580/implementing-argmax-in-python"
   ]
  },
  {
   "cell_type": "code",
   "execution_count": null,
   "id": "2e5a3e3f",
   "metadata": {},
   "outputs": [],
   "source": [
    "from itertools import count\n",
    "import math"
   ]
  },
  {
   "cell_type": "code",
   "execution_count": null,
   "id": "6f6ced85",
   "metadata": {},
   "outputs": [],
   "source": [
    "def argmax(pairs):\n",
    "    \"\"\"\n",
    "    given an iterable of pairs return the key corresponding to the greatest value\n",
    "    \"\"\"\n",
    "    return max(pairs, key=lambda a_b: a_b[1])[0]"
   ]
  },
  {
   "cell_type": "code",
   "execution_count": null,
   "id": "1d9dcd49",
   "metadata": {
    "lines_to_next_cell": 1
   },
   "outputs": [],
   "source": [
    "def argmax_index(values):\n",
    "    \"\"\"\n",
    "    given an iterable of values return the index of the greatest value\n",
    "    \"\"\"\n",
    "    return argmax(zip(count(), values))"
   ]
  },
  {
   "cell_type": "code",
   "execution_count": null,
   "id": "7825cb13",
   "metadata": {
    "lines_to_next_cell": 1
   },
   "outputs": [],
   "source": [
    "def argmax_f(keys, f):\n",
    "    \"\"\"\n",
    "    given an iterable of keys and a function f, return the key with largest f(key)\n",
    "    \"\"\"\n",
    "    return argmax((k, f(k)) for k in keys)"
   ]
  },
  {
   "cell_type": "code",
   "execution_count": null,
   "id": "011ca7fd",
   "metadata": {
    "lines_to_next_cell": 1
   },
   "outputs": [],
   "source": [
    "def argmax_f_tuples(keys, f):\n",
    "    \"\"\"\n",
    "    given an iterable of key tuples and a function f, return the key with largest f(*key)\n",
    "    \"\"\"\n",
    "    return max(map(lambda key: (f(*key), key), keys))[1]"
   ]
  },
  {
   "cell_type": "code",
   "execution_count": null,
   "id": "c85d188f",
   "metadata": {
    "lines_to_next_cell": 1
   },
   "outputs": [],
   "source": [
    "def mean(lst):\n",
    "    \"\"\"Throws a div by zero exception if list is empty\"\"\"\n",
    "    return sum(lst) / float(len(lst))"
   ]
  },
  {
   "cell_type": "code",
   "execution_count": null,
   "id": "b7f65227",
   "metadata": {},
   "outputs": [],
   "source": [
    "def stddev(lst):\n",
    "    if len(lst) == 0:\n",
    "        return 0\n",
    "    m = mean(lst)\n",
    "    return math.sqrt(sum((x-m)*(x-m) for x in lst) / len(lst))"
   ]
  },
  {
   "cell_type": "code",
   "execution_count": null,
   "id": "f34a1b83",
   "metadata": {},
   "outputs": [],
   "source": [
    "def median(numeric):\n",
    "    vals = sorted(numeric)\n",
    "    count = len(vals)\n",
    "    if count % 2 == 1:\n",
    "        return vals[(count+1)/2-1]\n",
    "    else:\n",
    "        lower = vals[count/2-1]\n",
    "        upper = vals[count/2]\n",
    "        return (float(lower + upper)) / 2"
   ]
  },
  {
   "cell_type": "code",
   "execution_count": null,
   "id": "3a7e3cfc",
   "metadata": {},
   "outputs": [],
   "source": []
  },
  {
   "cell_type": "code",
   "execution_count": null,
   "id": "a4e7f7c9",
   "metadata": {},
   "outputs": [],
   "source": [
    "def even_split(n, k):\n",
    "    \"\"\"\n",
    "    n and k must be ints.\n",
    "    \n",
    "    returns a list of as-even-as-possible shares when n is divided into k pieces.\n",
    "\n",
    "    Excess is left for the end.  If you want random order, shuffle the output.\n",
    "\n",
    "    >>> even_split(2,1)\n",
    "    [2]\n",
    "    \n",
    "    >>> even_split(2,2)\n",
    "    [1, 1]\n",
    "\n",
    "    >>> even_split(3,2)\n",
    "    [1, 2]\n",
    "\n",
    "    >>> even_split(11,3)\n",
    "    [3, 4, 4]\n",
    "    \"\"\"\n",
    "    ans = []\n",
    "    if type(n) is not int or type(k) is not int:\n",
    "        raise TypeError(\"n and k must be ints\")\n",
    "\n",
    "    r = n % k\n",
    "    ans = ([n//k] * (k-r))\n",
    "    ans.extend([n//k + 1] * r)\n",
    "    return ans"
   ]
  },
  {
   "cell_type": "code",
   "execution_count": null,
   "id": "394ebf97",
   "metadata": {},
   "outputs": [],
   "source": [
    "def load_modules(agent_classes):\n",
    "    \"\"\"Each agent class must be in module class_name.lower().\n",
    "    Returns a dictionary class_name->class\"\"\"\n",
    "\n",
    "    def load(class_name):\n",
    "        module_name = class_name.lower()  # by convention / fiat\n",
    "        module = __import__(module_name)\n",
    "        agent_class = module.__dict__[class_name]\n",
    "        return (class_name, agent_class)\n",
    "\n",
    "    return dict(list(map(load, agent_classes)))"
   ]
  },
  {
   "cell_type": "code",
   "execution_count": null,
   "id": "f5e224a8",
   "metadata": {},
   "outputs": [],
   "source": []
  },
  {
   "cell_type": "code",
   "execution_count": null,
   "id": "fb2f8403",
   "metadata": {},
   "outputs": [],
   "source": [
    "class Params:\n",
    "    def __init__(self):\n",
    "        self._init_keys = set(self.__dict__.keys())\n",
    "    \n",
    "    def add(self, k, v):\n",
    "        self.__dict__[k] = v\n",
    "\n",
    "    def __repr__(self):\n",
    "        return \"; \".join(\"%s=%s\" % (k, str(self.__dict__[k])) for k in list(self.__dict__.keys()) if k not in self._init_keys)"
   ]
  },
  {
   "cell_type": "code",
   "execution_count": null,
   "id": "736a35bb",
   "metadata": {},
   "outputs": [],
   "source": []
  },
  {
   "cell_type": "code",
   "execution_count": null,
   "id": "86139fe0",
   "metadata": {
    "lines_to_next_cell": 1
   },
   "outputs": [],
   "source": [
    "class IllegalUpload(Exception):\n",
    "    pass"
   ]
  },
  {
   "cell_type": "code",
   "execution_count": null,
   "id": "bc8262ff",
   "metadata": {
    "lines_to_next_cell": 2
   },
   "outputs": [],
   "source": [
    "class IllegalRequest(Exception):\n",
    "    pass"
   ]
  }
 ],
 "metadata": {
  "jupytext": {
   "cell_metadata_filter": "-all",
   "executable": "/usr/bin/python",
   "main_language": "python",
   "notebook_metadata_filter": "-all"
  }
 },
 "nbformat": 4,
 "nbformat_minor": 5
}
