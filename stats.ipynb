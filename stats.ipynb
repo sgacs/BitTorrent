{
 "cells": [
  {
   "cell_type": "code",
   "execution_count": null,
   "id": "7d0c75db",
   "metadata": {
    "lines_to_next_cell": 0
   },
   "outputs": [],
   "source": []
  },
  {
   "cell_type": "code",
   "execution_count": null,
   "id": "6227947c",
   "metadata": {
    "lines_to_next_cell": 2
   },
   "outputs": [],
   "source": [
    "class Stats:\n",
    "    @staticmethod\n",
    "    def uploaded_blocks(peer_ids, history):\n",
    "        \"\"\"\n",
    "        peer_ids: list of peer_ids\n",
    "        history: a History object\n",
    "\n",
    "        Returns:\n",
    "        dict: peer_id -> total upload blocks used\n",
    "        \"\"\"\n",
    "        uploaded = dict((peer_id, 0) for peer_id in peer_ids)\n",
    "        for peer_id in peer_ids:\n",
    "            for ds in history.downloads[peer_id]:\n",
    "                for download in ds:\n",
    "                    uploaded[download.from_id] += download.blocks\n",
    "                \n",
    "        return uploaded\n",
    "\n",
    "    @staticmethod\n",
    "    def uploaded_blocks_str(peer_ids, history):\n",
    "        \"\"\" Return a pretty stringified version of uploaded_blocks \"\"\"\n",
    "        d = Stats.uploaded_blocks(peer_ids, history)\n",
    "\n",
    "        k = lambda id: d[id]\n",
    "        return \"\\n\".join(\"%s: %d, bw=%d\" % (id, d[id], history.upload_rates[id])\n",
    "                         for id in sorted(list(d.keys()), key=d.__getitem__))\n",
    "\n",
    "    @staticmethod\n",
    "    def completion_rounds(peer_ids, history):\n",
    "        \"\"\"Returns dict: peer_id -> round when completed,\n",
    "        or None if not completed\"\"\"\n",
    "        d = dict(history.round_done)\n",
    "        for id in peer_ids:\n",
    "            if id not in d:\n",
    "                d[id] = None\n",
    "        \n",
    "        return d\n",
    "\n",
    "    @staticmethod\n",
    "    def completion_rounds_str(peer_ids, history):\n",
    "        \"\"\" Return a pretty stringified version of completion_rounds \"\"\"\n",
    "        d = Stats.completion_rounds(peer_ids, history)\n",
    "\n",
    "        k = lambda id: d[id] or 0\n",
    "        return \"\\n\".join(\"%s: %s\" % (id, d[id])\n",
    "                         #for id in sorted(list(d.keys()), key=d.__getitem__))\n",
    "                         for id in sorted(list(d.keys()), key=k))\n",
    "\n",
    "    @staticmethod\n",
    "    def all_done_round(peer_ids, history):\n",
    "        d = Stats.completion_rounds(peer_ids, history)\n",
    "        if None in list(d.values()):\n",
    "            return None\n",
    "        return max(d.values())"
   ]
  }
 ],
 "metadata": {
  "jupytext": {
   "cell_metadata_filter": "-all",
   "executable": "/usr/bin/python",
   "main_language": "python",
   "notebook_metadata_filter": "-all"
  }
 },
 "nbformat": 4,
 "nbformat_minor": 5
}
